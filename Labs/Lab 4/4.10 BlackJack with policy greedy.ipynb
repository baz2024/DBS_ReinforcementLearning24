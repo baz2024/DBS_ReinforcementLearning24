{
 "cells": [
  {
   "cell_type": "markdown",
   "metadata": {},
   "source": [
    "# Playing BlackJack with First Visit MC"
   ]
  },
  {
   "cell_type": "markdown",
   "metadata": {},
   "source": [
    " First, let us import all the necessary libraries"
   ]
  },
  {
   "cell_type": "code",
   "execution_count": 2,
   "metadata": {
    "collapsed": true
   },
   "outputs": [],
   "source": [
    "import gym\n",
    "import numpy as np\n",
    "from matplotlib import pyplot\n",
    "import matplotlib.pyplot as plt\n",
    "from mpl_toolkits.mplot3d import Axes3D\n",
    "from collections import defaultdict\n",
    "from functools import partial\n",
    "%matplotlib inline\n",
    "plt.style.use('ggplot')"
   ]
  },
  {
   "cell_type": "markdown",
   "metadata": {},
   "source": [
    " Simulate the Blackjack environment"
   ]
  },
  {
   "cell_type": "code",
   "execution_count": 11,
   "metadata": {},
   "outputs": [],
   "source": [
    "#env = gym.make('Blackjack-v1', render_mode='human')\n",
    "env = gym.make('Blackjack-v1')"
   ]
  },
  {
   "cell_type": "code",
   "execution_count": 15,
   "metadata": {},
   "outputs": [
    {
     "name": "stdout",
     "output_type": "stream",
     "text": [
      "num_player_sum_values32\n",
      "num_dealer_showing_values11\n",
      "num_actions2\n"
     ]
    },
    {
     "ename": "IndexError",
     "evalue": "index 20 is out of bounds for axis 1 with size 11",
     "output_type": "error",
     "traceback": [
      "\u001b[0;31m---------------------------------------------------------------------------\u001b[0m",
      "\u001b[0;31mIndexError\u001b[0m                                Traceback (most recent call last)",
      "Cell \u001b[0;32mIn[15], line 130\u001b[0m\n\u001b[1;32m    127\u001b[0m env \u001b[38;5;241m=\u001b[39m BlackjackEnv()\n\u001b[1;32m    129\u001b[0m \u001b[38;5;66;03m# Train policy using Monte Carlo control\u001b[39;00m\n\u001b[0;32m--> 130\u001b[0m policy \u001b[38;5;241m=\u001b[39m monte_carlo_control(env, num_episodes, epsilon, decay_rate)\n\u001b[1;32m    132\u001b[0m \u001b[38;5;66;03m# Test trained policy\u001b[39;00m\n\u001b[1;32m    133\u001b[0m num_test_episodes \u001b[38;5;241m=\u001b[39m \u001b[38;5;241m10000\u001b[39m\n",
      "Cell \u001b[0;32mIn[15], line 82\u001b[0m, in \u001b[0;36mmonte_carlo_control\u001b[0;34m(env, num_episodes, epsilon, decay_rate)\u001b[0m\n\u001b[1;32m     80\u001b[0m     action \u001b[38;5;241m=\u001b[39m env\u001b[38;5;241m.\u001b[39maction_space\u001b[38;5;241m.\u001b[39msample()  \u001b[38;5;66;03m# Explore\u001b[39;00m\n\u001b[1;32m     81\u001b[0m \u001b[38;5;28;01melse\u001b[39;00m:\n\u001b[0;32m---> 82\u001b[0m     action \u001b[38;5;241m=\u001b[39m np\u001b[38;5;241m.\u001b[39margmax(policy[state])   \u001b[38;5;66;03m# Exploit\u001b[39;00m\n\u001b[1;32m     83\u001b[0m next_state, reward, done, _ \u001b[38;5;241m=\u001b[39m env\u001b[38;5;241m.\u001b[39mstep(action)\n\u001b[1;32m     84\u001b[0m episode_rewards\u001b[38;5;241m.\u001b[39mappend(reward)\n",
      "\u001b[0;31mIndexError\u001b[0m: index 20 is out of bounds for axis 1 with size 11"
     ]
    }
   ],
   "source": [
    "import gym\n",
    "import numpy as np\n",
    "import random\n",
    "\n",
    "class BlackjackEnv(gym.Env):\n",
    "    def __init__(self):\n",
    "        self.action_space = gym.spaces.Discrete(2)  # 0: stick, 1: hit\n",
    "        self.observation_space = gym.spaces.Tuple((\n",
    "            gym.spaces.Discrete(32),  # Player's current sum (0-31)\n",
    "            gym.spaces.Discrete(11),  # Dealer's showing card (1-10)\n",
    "            gym.spaces.Discrete(2)    # Whether player has a usable ace (0 or 1)\n",
    "        ))\n",
    "        self.reset()\n",
    "\n",
    "    def step(self, action):\n",
    "        if action:  # hit\n",
    "            self.player_sum += self.draw_card()\n",
    "            if self.player_sum > 21:\n",
    "                done = True\n",
    "                reward = -1\n",
    "            else:\n",
    "                done = False\n",
    "                reward = 0\n",
    "        else:  # stick\n",
    "            done = True\n",
    "            while self.dealer_sum < 17:\n",
    "                self.dealer_sum += self.draw_card()\n",
    "            reward = np.sign(self.player_sum - self.dealer_sum)\n",
    "            if reward == 0:\n",
    "                reward = 0\n",
    "            elif reward > 0:\n",
    "                reward = 1\n",
    "            else:\n",
    "                reward = -1\n",
    "        return self._get_obs(), reward, done, {}\n",
    "\n",
    "    def reset(self):\n",
    "        self.player_sum = 0\n",
    "        self.dealer_sum = 0\n",
    "        self.player_sum += self.draw_card()\n",
    "        self.dealer_sum += self.draw_card()\n",
    "        self.player_sum += self.draw_card()\n",
    "        self.dealer_sum += self.draw_card()\n",
    "        return self._get_obs()\n",
    "\n",
    "    def _get_obs(self):\n",
    "        return (self.player_sum, self.dealer_sum, int(self.player_sum > 21))\n",
    "\n",
    "    def draw_card(self):\n",
    "        return min(random.randint(1, 13), 10)  # 1-10 are number cards, 10-13 are face cards\n",
    "\n",
    "# Monte Carlo control algorithm\n",
    "def monte_carlo_control(env, num_episodes, epsilon, decay_rate):\n",
    "    # Get the sizes of the observation space and action space\n",
    "    num_player_sum_values = env.observation_space[0].n\n",
    "    print('num_player_sum_values'+ str(num_player_sum_values))\n",
    "    num_dealer_showing_values = env.observation_space[1].n\n",
    "    print('num_dealer_showing_values'+ str(num_dealer_showing_values))\n",
    "\n",
    "    num_usable_ace_values = env.observation_space[2].n\n",
    "    num_actions = env.action_space.n\n",
    "    print('num_actions'+ str(num_actions))\n",
    "\n",
    "\n",
    "    # Initialize Q-table and N-array\n",
    "    Q = np.zeros((num_player_sum_values, num_dealer_showing_values, num_usable_ace_values, num_actions))\n",
    "    N = np.zeros((num_player_sum_values, num_dealer_showing_values, num_usable_ace_values, num_actions))\n",
    "    policy = np.ones((num_player_sum_values, num_dealer_showing_values, num_usable_ace_values, num_actions)) / num_actions\n",
    "\n",
    "    # Initialize Q-table with dimensions based on the observation space and action space\n",
    "    #Q = np.zeros((env.observation_space[0].n, env.observation_space[1].n, env.observation_space[2].n, env.action_space.n))\n",
    "    #N = np.zeros((env.observation_space[0].n, env.observation_space[1].n, env.observation_space[2].n, env.action_space.n))\n",
    "    #policy = np.ones((env.observation_space[0].n, env.observation_space[1].n, env.observation_space[2].n, env.action_space.n)) / env.action_space.n\n",
    "\n",
    "    for episode in range(num_episodes):\n",
    "        state = env.reset()\n",
    "        episode_rewards = []\n",
    "        while True:\n",
    "            if random.random() < epsilon:\n",
    "                action = env.action_space.sample()  # Explore\n",
    "            else:\n",
    "                action = np.argmax(policy[state])   # Exploit\n",
    "            next_state, reward, done, _ = env.step(action)\n",
    "            episode_rewards.append(reward)\n",
    "\n",
    "            # Update counts\n",
    "            N[state][action] += 1\n",
    "\n",
    "            # Update Q-values\n",
    "            alpha = 1 / N[state][action]\n",
    "            Q[state][action] += alpha * (sum(episode_rewards) - Q[state][action])\n",
    "\n",
    "            # Update policy\n",
    "            policy[state] = epsilon / env.action_space.n\n",
    "            best_action = np.argmax(Q[state])\n",
    "            policy[state][best_action] += 1 - epsilon\n",
    "\n",
    "            if done:\n",
    "                break\n",
    "            state = next_state\n",
    "\n",
    "        # Decay epsilon\n",
    "        epsilon *= decay_rate\n",
    "\n",
    "    return policy\n",
    "\n",
    "# Test the trained policy\n",
    "def test_policy(env, policy, num_episodes):\n",
    "    total_rewards = 0\n",
    "    for _ in range(num_episodes):\n",
    "        state = env.reset()\n",
    "        while True:\n",
    "            action = np.argmax(policy[state])\n",
    "            state, reward, done, _ = env.step(action)\n",
    "            total_rewards += reward\n",
    "            if done:\n",
    "                break\n",
    "    average_reward = total_rewards / num_episodes\n",
    "    return average_reward\n",
    "\n",
    "# Parameters\n",
    "num_episodes = 100000\n",
    "epsilon = 0.5\n",
    "decay_rate = 0.999\n",
    "\n",
    "# Create Blackjack environment\n",
    "env = BlackjackEnv()\n",
    "\n",
    "# Train policy using Monte Carlo control\n",
    "policy = monte_carlo_control(env, num_episodes, epsilon, decay_rate)\n",
    "\n",
    "# Test trained policy\n",
    "num_test_episodes = 10000\n",
    "average_reward = test_policy(env, policy, num_test_episodes)\n",
    "print(f\"Average reward over {num_test_episodes} test episodes: {average_reward}\")\n"
   ]
  }
 ],
 "metadata": {
  "kernelspec": {
   "display_name": "Python 3",
   "language": "python",
   "name": "python3"
  },
  "language_info": {
   "codemirror_mode": {
    "name": "ipython",
    "version": 3
   },
   "file_extension": ".py",
   "mimetype": "text/x-python",
   "name": "python",
   "nbconvert_exporter": "python",
   "pygments_lexer": "ipython3",
   "version": "3.11.5"
  }
 },
 "nbformat": 4,
 "nbformat_minor": 2
}
