{
 "cells": [
  {
   "cell_type": "markdown",
   "metadata": {},
   "source": [
    "# Solving the Frozen Lake Problem with Value Iteration\n",
    "\n",
    "The Frozen Lake problem is a classic grid world problem where an agent\n",
    "must navigate from a starting point to a goal while avoiding holes\n",
    "(dangerous states) on a frozen lake. The goal is to find the optimal\n",
    "policy that maximizes the agent’s chance of reaching the goal safely.\n"
   ]
  },
  {
   "cell_type": "code",
   "execution_count": null,
   "metadata": {},
   "outputs": [],
   "source": []
  },
  {
   "cell_type": "code",
   "execution_count": null,
   "metadata": {},
   "outputs": [],
   "source": [
    "from gym import Env, spaces\n",
    "import numpy as np\n",
    "\n",
    "class SimpleGridWorld3x3Env(Env):\n",
    "    def __init__(self):\n",
    "        self.grid_size = 3\n",
    "        self.action_space = spaces.Discrete(4)  # Four possible actions: left, down, right, up\n",
    "        self.observation_space = spaces.Discrete(self.grid_size * self.grid_size)  # 9 possible states in a 3x3 grid\n",
    "\n",
    "        self.grid = np.array([\n",
    "            [0, 1, 0],\n",
    "            [0, 0, 0],\n",
    "            [0, 0, 2]\n",
    "        ])  # 0: empty, 1: agent, 2: goal\n",
    "\n",
    "        self.agent_position = (0, 1)  # Start the agent at position (0, 1)\n",
    "\n",
    "    def step(self, action):\n",
    "        if action == 0:  # left\n",
    "            new_position = (self.agent_position[0], max(self.agent_position[1] - 1, 0))\n",
    "        elif action == 1:  # down\n",
    "            new_position = (min(self.agent_position[0] + 1, self.grid_size - 1), self.agent_position[1])\n",
    "        elif action == 2:  # right\n",
    "            new_position = (self.agent_position[0], min(self.agent_position[1] + 1, self.grid_size - 1))\n",
    "        elif action == 3:  # up\n",
    "            new_position = (max(self.agent_position[0] - 1, 0), self.agent_position[1])\n",
    "\n",
    "        if self.grid[new_position] != 0:  # If the new position is not empty\n",
    "            reward = -1  # Move is not allowed, receive negative reward\n",
    "        else:\n",
    "            reward = 0  # Move is allowed, receive zero reward\n",
    "\n",
    "            # Update agent's position\n",
    "            self.grid[self.agent_position] = 0  # Clear current position\n",
    "            self.grid[new_position] = 1  # Move agent to new position\n",
    "            self.agent_position = new_position  # Update agent's position\n",
    "\n",
    "        # Check if the agent has reached the goal\n",
    "        done = (self.agent_position == (2, 2))\n",
    "\n",
    "        # Return the new state (observation), reward, whether the episode is done, and additional info\n",
    "        return self.agent_position[0] * self.grid_size + self.agent_position[1], reward, done, {}\n",
    "\n",
    "    def reset(self):\n",
    "        # Reset the environment by placing the agent back at the starting position\n",
    "        self.grid = np.array([\n",
    "            [0, 1, 0],\n",
    "            [0, 0, 0],\n",
    "            [0, 0, 2]\n",
    "        ])\n",
    "        self.agent_position = (0, 1)\n",
    "        return self.agent_position[0] * self.grid_size + self.agent_position[1]\n",
    "\n",
    "    def render(self, mode='human'):\n",
    "        # Render the grid world\n",
    "        for i in range(self.grid_size):\n",
    "            for j in range(self.grid_size):\n",
    "                if (i, j) == self.agent_position:\n",
    "                    print(\"A\", end=\" \")  # Agent\n",
    "                elif self.grid[i, j] == 2:\n",
    "                    print(\"G\", end=\" \")  # Goal\n",
    "                else:\n",
    "                    print(\"_\", end=\" \")  # Empty\n",
    "            print()  # New line for next row\n",
    "\n",
    "# Create an instance of the environment\n",
    "env = SimpleGridWorld3x3Env()\n",
    "\n",
    "# Test the environment by taking some random actions\n",
    "for _ in range(5):\n",
    "    action = env.action_space.sample()  # Random action\n",
    "    state, reward, done, _ = env.step(action)\n",
    "    env.render()\n",
    "    print(\"Action:\", action)\n",
    "    print(\"State:\", state)\n",
    "    print(\"Reward:\", reward)\n",
    "    print(\"Done:\", done)\n",
    "    print()\n"
   ]
  },
  {
   "cell_type": "code",
   "execution_count": null,
   "metadata": {},
   "outputs": [],
   "source": [
    "env = SimpleGridWorld3x3Env()"
   ]
  },
  {
   "cell_type": "code",
   "execution_count": null,
   "metadata": {},
   "outputs": [],
   "source": [
    "env.reset()"
   ]
  },
  {
   "cell_type": "code",
   "execution_count": null,
   "metadata": {},
   "outputs": [],
   "source": [
    "env.render()"
   ]
  },
  {
   "cell_type": "code",
   "execution_count": null,
   "metadata": {},
   "outputs": [],
   "source": [
    "env.step(1)"
   ]
  },
  {
   "cell_type": "code",
   "execution_count": null,
   "metadata": {},
   "outputs": [],
   "source": [
    "env.render(mode='human')"
   ]
  },
  {
   "cell_type": "code",
   "execution_count": 1,
   "metadata": {},
   "outputs": [
    {
     "ename": "NameError",
     "evalue": "name 'env' is not defined",
     "output_type": "error",
     "traceback": [
      "\u001b[0;31m---------------------------------------------------------------------------\u001b[0m",
      "\u001b[0;31mNameError\u001b[0m                                 Traceback (most recent call last)",
      "Cell \u001b[0;32mIn[1], line 6\u001b[0m\n\u001b[1;32m      4\u001b[0m episode\u001b[38;5;241m=\u001b[39m\u001b[38;5;241m0\u001b[39m\n\u001b[1;32m      5\u001b[0m \u001b[38;5;28;01mfor\u001b[39;00m episode \u001b[38;5;129;01min\u001b[39;00m \u001b[38;5;28mrange\u001b[39m(num_episodes):\n\u001b[0;32m----> 6\u001b[0m     state \u001b[38;5;241m=\u001b[39m env\u001b[38;5;241m.\u001b[39mreset()\n\u001b[1;32m      7\u001b[0m     terminated\u001b[38;5;241m=\u001b[39m \u001b[38;5;28;01mFalse\u001b[39;00m\n\u001b[1;32m      8\u001b[0m     truncated\u001b[38;5;241m=\u001b[39m \u001b[38;5;28;01mFalse\u001b[39;00m\n",
      "\u001b[0;31mNameError\u001b[0m: name 'env' is not defined"
     ]
    }
   ],
   "source": [
    "# Test the learned policy\n",
    "total_reward = 0\n",
    "num_episodes = 100\n",
    "episode=0\n",
    "for episode in range(num_episodes):\n",
    "    state = env.reset()\n",
    "    terminated= False\n",
    "    truncated= False\n",
    "    env.render('human')\n",
    "    while not (terminated or truncated):\n",
    "        action = env.action_space.sample()\n",
    "        new_state, reward, done, info  = env.step(action)\n",
    "        #done = terminated or truncated\n",
    "        print(f\"Episode {episode+1}\" + ' We are in State: ' + str(new_state) +  ' getting reward: ' + str(total_reward) + ' after doing action:' + str(action))\n",
    "\n",
    "        total_reward += reward\n",
    "        if done:\n",
    "            break"
   ]
  }
 ],
 "metadata": {
  "kernelspec": {
   "display_name": "base",
   "language": "python",
   "name": "python3"
  },
  "language_info": {
   "codemirror_mode": {
    "name": "ipython",
    "version": 3
   },
   "file_extension": ".py",
   "mimetype": "text/x-python",
   "name": "python",
   "nbconvert_exporter": "python",
   "pygments_lexer": "ipython3",
   "version": "3.11.5"
  }
 },
 "nbformat": 4,
 "nbformat_minor": 2
}
